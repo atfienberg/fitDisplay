{
 "cells": [
  {
   "cell_type": "code",
   "execution_count": 1,
   "metadata": {
    "collapsed": false,
    "deletable": true,
    "editable": true
   },
   "outputs": [
    {
     "data": {
      "application/javascript": [
       "\n",
       "require(['notebook'],\n",
       "  function() {\n",
       "    IPython.CodeCell.config_defaults.highlight_modes['magic_text/x-c++src'] = {'reg':[/^%%cpp/]};\n",
       "    console.log(\"JupyROOT - %%cpp magic configured\");\n",
       "  }\n",
       ");\n"
      ]
     },
     "metadata": {},
     "output_type": "display_data"
    },
    {
     "name": "stdout",
     "output_type": "stream",
     "text": [
      "Welcome to JupyROOT 6.08/06\n"
     ]
    }
   ],
   "source": [
    "import ROOT\n",
    "from ipywidgets import interact, IntSlider, IntText\n",
    "from itertools import takewhile, count\n",
    "\n",
    "f = ROOT.TFile('/Users/atfienberg/g-2/nearlineTests/riderFitDisplay1124.root')\n",
    "module_label = 'fitDisplay'\n",
    "\n",
    "if not ROOT.gROOT.FindObject('canv'):\n",
    "    c = ROOT.TCanvas('canv', 'canv', 1000, 600)\n",
    "sgen = takewhile(lambda s: isinstance(s, ROOT.TSpline3), \n",
    "                         (f.Get('{0}/splines/spline{1}'.format(module_label, i)) \n",
    "                          for i in count()))\n",
    "splines = list(sgen)\n",
    "t = f.Get('{}/fits/fitTree'.format(module_label))\n",
    "n_entries = t.BuildIndex('fillNum', 'xtalNum*(waveformIndex == 1) - 1*(waveformIndex != 1)')\n",
    "\n",
    "# need global handle to currently plotted objects so that they don't get garbage collected\n",
    "plotted_objects = None"
   ]
  },
  {
   "cell_type": "code",
   "execution_count": 2,
   "metadata": {
    "collapsed": false,
    "deletable": true,
    "editable": true
   },
   "outputs": [],
   "source": [
    "# define plotting functions\n",
    "\n",
    "def plot_fit(entry_num, x_min, x_max, canvas):\n",
    "    t.GetEntry(entry_num)\n",
    " \n",
    "    # build graph\n",
    "    sample_g = ROOT.TGraph(0)\n",
    "    sample_g.SetTitle('run {0}, fill {2}, waveform {3}, xtal {1}; sample num; adc counts'.\n",
    "                          format(t.runNum, t.xtalNum, t.fillNum, t.waveformIndex))\n",
    "    sample_g.SetMarkerStyle(20)\n",
    "    sample_g.SetMarkerSize(1.5)\n",
    "    sample_g.SetMarkerColor(ROOT.kBlack)\n",
    "    for i, samp in enumerate(t.trace):\n",
    "        sample_g.SetPoint(i, i + t.firstSampleNum, samp)\n",
    "    \n",
    "    # build fit function\n",
    "    try:\n",
    "        spline = splines[t.xtalNum]\n",
    "    except IndexError:\n",
    "        print('no spline found for segment {}!'.format(t.xtalNum))\n",
    "        return\n",
    "    \n",
    "    # need to copy parameters or closure doesn't work as intended\n",
    "    energies = [e for e in t.energies]\n",
    "    times = [float(t0) for t0 in t.times]\n",
    "    ped = float(t.pedestal)\n",
    "    def fit_func(x):\n",
    "        val = ped\n",
    "        for (energy, t0) in zip(energies, times):\n",
    "            if spline.GetXmin() < (x[0]-t0) < spline.GetXmax():\n",
    "                val += -1*energy*spline.Eval(x[0]-t0)\n",
    "        return val\n",
    "    \n",
    "    # draw graph and fit \n",
    "    sample_g.Draw(\"ap\")\n",
    "    y_min, y_max = (sample_g.GetYaxis().GetXmin(), sample_g.GetYaxis().GetXmax())\n",
    "    sample_g.GetXaxis().SetLimits(x_min, x_max)\n",
    "    fitTF1 = ROOT.TF1('fitfunc', fit_func, x_min, x_max, 0)\n",
    "    fitTF1.SetNpx(1000)\n",
    "    fitTF1.SetLineColor(ROOT.kMagenta + 2)\n",
    "    # don't draw failed fits\n",
    "    if t.chi2 > 0:\n",
    "        fitTF1.Draw(\"p same\")\n",
    "    \n",
    "    # make text box\n",
    "    x_range, y_range = (x_max - x_min, y_max - y_min)\n",
    "    txtbox = ROOT.TPaveText(x_min + 0.5*x_range, y_min + 0.6*y_range, \n",
    "                            x_min + 0.9*x_range, y_min + 0.1*y_range)\n",
    "    txtbox.SetFillColor(ROOT.kWhite)\n",
    "    txtbox.SetLineColor(ROOT.kWhite)\n",
    "    txtbox.SetShadowColor(ROOT.kWhite)\n",
    "    for (i, (energy, t0)) in enumerate(zip(t.energies, t.times)):\n",
    "        txtbox.AddText('t_{{{0}}}: {1:0.3f}'.format(i, t0))\n",
    "        txtbox.AddText('E_{{{0}}}: {1:0.1f}'.format(i, energy))\n",
    "    txtbox.AddText('pedestal: {:0.1f}'.format(t.pedestal))\n",
    "    txtbox.AddText('#chi^{{2}}: {:0.1f}'.format(t.chi2))\n",
    "    sample_g.GetYaxis().SetTitleOffset(1.5)\n",
    "    txtbox.Draw()\n",
    "    canvas.Draw()\n",
    "    return (sample_g, fitTF1, txtbox)\n",
    "\n",
    "def plot_one_with_index(fill_num, xtal_num, waveform, x_min, x_max):\n",
    "    ROOT.gStyle.SetOptTitle(1)\n",
    "    entry_num = t.GetEntryNumberWithIndex(fill_num, xtal_num)\n",
    "    if entry_num != -1L:\n",
    "        c.cd()\n",
    "        global plotted_objects\n",
    "        plotted_objects = plot_fit(entry_num + waveform - 1, x_min, x_max, c)\n",
    "    else:\n",
    "        print('entry not found in index')"
   ]
  },
  {
   "cell_type": "code",
   "execution_count": 3,
   "metadata": {
    "collapsed": false,
    "deletable": true,
    "editable": true
   },
   "outputs": [
    {
     "data": {
      "image/png": "[encoded data removed]",
      "text/plain": [
       "<IPython.core.display.Image object>"
      ]
     },
     "metadata": {},
     "output_type": "display_data"
    }
   ],
   "source": [
    "%jsroot off\n",
    "dummy = interact(plot_one_with_index, fill_num=IntSlider(min=1, max=100, step=1, value=0), \n",
    "                 waveform=IntSlider(min=1, max=5, step=1, value=0), \n",
    "                 xtal_num=IntSlider(min=0, max=len(splines) - 1, step=1, value=0),\n",
    "                 x_min=IntSlider(min=0, max=800, step=1, value=0),\n",
    "                 x_max=IntSlider(min=0, max=800, step=1, value=800))"
   ]
  },
  {
   "cell_type": "code",
   "execution_count": null,
   "metadata": {
    "collapsed": true,
    "deletable": true,
    "editable": true
   },
   "outputs": [],
   "source": []
  }
 ],
 "metadata": {
  "kernelspec": {
   "display_name": "Python 2",
   "language": "python",
   "name": "python2"
  },
  "language_info": {
   "codemirror_mode": {
    "name": "ipython",
    "version": 2
   },
   "file_extension": ".py",
   "mimetype": "text/x-python",
   "name": "python",
   "nbconvert_exporter": "python",
   "pygments_lexer": "ipython2",
   "version": "2.7.13"
  },
  "widgets": {
   "state": {
    "b05ee5e87c9f41e19edb83bb0bb88d71": {
     "views": [
      {
       "cell_index": 2
      }
     ]
    }
   },
   "version": "1.2.0"
  }
 },
 "nbformat": 4,
 "nbformat_minor": 0
}
