{
 "cells": [
  {
   "cell_type": "code",
   "execution_count": 1,
   "metadata": {
    "collapsed": false,
    "deletable": true,
    "editable": true
   },
   "outputs": [
    {
     "data": {
      "application/javascript": [
       "\n",
       "require(['notebook'],\n",
       "  function() {\n",
       "    IPython.CodeCell.config_defaults.highlight_modes['magic_text/x-c++src'] = {'reg':[/^%%cpp/]};\n",
       "    console.log(\"JupyROOT - %%cpp magic configured\");\n",
       "  }\n",
       ");\n"
      ]
     },
     "metadata": {},
     "output_type": "display_data"
    },
    {
     "name": "stdout",
     "output_type": "stream",
     "text": [
      "Welcome to JupyROOT 6.08/06\n"
     ]
    }
   ],
   "source": [
    "import ROOT\n",
    "from ipywidgets import interact, IntSlider, IntText\n",
    "from itertools import takewhile, count\n",
    "\n",
    "f = ROOT.TFile('/Users/atfienberg/g-2/nearlineTests/fitDisplays/run1462FirstTwoSubsFitDisplayCalo19.root')\n",
    "module_label = 'fitDisplay'\n",
    "\n",
    "if not ROOT.gROOT.FindObject('canv'):\n",
    "    c = ROOT.TCanvas('canv', 'canv', 1000, 600)\n",
    "if not ROOT.gROOT.FindObject('splitcanv'):\n",
    "    split_c = ROOT.TCanvas('splitcanv', 'splitcanv', 1200, 800)\n",
    "    split_c.Divide(9, 6, 0, 0)\n",
    "sgen = takewhile(lambda s: isinstance(s, ROOT.TSpline3), \n",
    "                         (f.Get('{0}/splines/spline{1}'.format(module_label, i)) \n",
    "                          for i in count()))\n",
    "splines = list(sgen)\n",
    "t = f.Get('{}/fits/fitTree'.format(module_label))\n",
    "n_entries = t.BuildIndex('fillNum', 'islandNums[0]*(xtalNum == 0 && subRunNum == 0) - 1*(xtalNum!=0)')\n",
    "\n",
    "# need global handle to currently plotted objects so that they don't get garbage collected\n",
    "plotted_objects = None"
   ]
  },
  {
   "cell_type": "code",
   "execution_count": 2,
   "metadata": {
    "collapsed": false,
    "deletable": true,
    "editable": true
   },
   "outputs": [],
   "source": [
    "# define plotting functions\n",
    "\n",
    "def plot_fit(entry_num, canvas, single=True, grid_index=0):\n",
    "    t.GetEntry(entry_num)\n",
    "    # build graph\n",
    "    sample_g = ROOT.TGraph(0)\n",
    "    sample_g.SetName('g{}'.format(grid_index))\n",
    "    if single:\n",
    "        if len(t.islandNums) == 1:\n",
    "            sample_g.SetTitle('run {0}, subrun {4}, fill {2}, island {3}, xtal {1}; sample num; adc counts'.\n",
    "                              format(t.runNum, t.xtalNum, t.fillNum, t.islandNums[0], t.subRunNum))\n",
    "        else:\n",
    "            sample_g.SetTitle('run {0}, subrun {4}, fill {2}, islands{3}, xtal {1}; sample num; adc counts'.\n",
    "                              format(t.runNum, t.xtalNum, t.fillNum, \n",
    "                                     ''.join(' ' + str(num) for num in t.islandNums), t.subRunNum))\n",
    "    sample_g.SetMarkerStyle(20)\n",
    "    if single:\n",
    "        sample_g.SetMarkerSize(0.5)\n",
    "    sample_g.SetMarkerColor(ROOT.kBlack)\n",
    "    sample_times = sum((list(range(first, first+length)) for first, length in zip(t.firstSampleNums, t.islandLengths)),\n",
    "                       [])\n",
    "\n",
    "    for sample_time, samp in zip(sample_times, t.trace):\n",
    "        sample_g.SetPoint(sample_g.GetN(), sample_time, samp)\n",
    "    \n",
    "    # build fit function\n",
    "    try:\n",
    "        spline = splines[t.xtalNum]\n",
    "    except IndexError:\n",
    "        print('no spline found for segment {}!'.format(t.xtalNum))\n",
    "        return\n",
    "    \n",
    "    # need to copy parameters or closure doesn't work as intended\n",
    "    energies = [e for e in t.energies]\n",
    "    times = [float(t0) for t0 in t.times]\n",
    "    ped = float(t.pedestal)\n",
    "    def fit_func(x):\n",
    "        val = ped\n",
    "        for (energy, t0) in zip(energies, times):\n",
    "            if spline.GetXmin() < (x[0]-t0) < spline.GetXmax():\n",
    "                val += -1*energy*spline.Eval(x[0]-t0)\n",
    "        return val\n",
    "    \n",
    "    # draw graph and fit \n",
    "    sample_g.Draw(\"ap\")\n",
    "    x_min, x_max = (t.firstSampleNums[0], t.firstSampleNums[-1] + t.islandLengths[-1])\n",
    "    y_min, y_max = (sample_g.GetYaxis().GetXmin(), sample_g.GetYaxis().GetXmax())\n",
    "    sample_g.GetXaxis().SetLimits(x_min, x_max)\n",
    "    if not single:\n",
    "        # scale based on ADC range for grid plot\n",
    "        sample_g.GetYaxis().SetRangeUser(-2047, 2048)\n",
    "    fitTF1 = ROOT.TF1('fitfunc{}'.format(grid_index), fit_func, x_min, x_max, 0)\n",
    "    fitTF1.SetNpx(1000)\n",
    "    fitTF1.SetLineColor(ROOT.kMagenta + 2)\n",
    "    # don't draw failed fits\n",
    "    if t.chi2 > 0:\n",
    "        fitTF1.Draw(\"p same\")\n",
    "    \n",
    "    if not single:\n",
    "        sample_g.GetXaxis().SetLabelOffset(999)\n",
    "        sample_g.GetYaxis().SetLabelOffset(999)\n",
    "        return (sample_g, fitTF1)\n",
    "\n",
    "    # make text box\n",
    "    x_range, y_range = (x_max - x_min, y_max - y_min)\n",
    "    txtbox = ROOT.TPaveText(x_min + 0.5*x_range, y_min + 0.6*y_range, \n",
    "                            x_min + 0.9*x_range, y_min + 0.1*y_range)\n",
    "    txtbox.SetFillColor(ROOT.kWhite)\n",
    "    txtbox.SetLineColor(ROOT.kWhite)\n",
    "    txtbox.SetShadowColor(ROOT.kWhite)\n",
    "    for (i, (energy, t0)) in enumerate(zip(t.energies, t.times)):\n",
    "        txtbox.AddText('t_{{{0}}}: {1:0.3f}'.format(i, t0))\n",
    "        txtbox.AddText('E_{{{0}}}: {1:0.1f}'.format(i, energy))\n",
    "    txtbox.AddText('pedestal: {:0.1f}'.format(t.pedestal))\n",
    "    txtbox.AddText('#chi^{{2}}: {:0.1f}'.format(t.chi2))\n",
    "    sample_g.GetYaxis().SetTitleOffset(2)\n",
    "#    txtbox.Draw()\n",
    "    canvas.Draw()\n",
    "    return (sample_g, fitTF1, txtbox)\n",
    "\n",
    "def plot_one_with_index(fill_num, island_num, xtal_num):\n",
    "    ROOT.gStyle.SetOptTitle(1)\n",
    "    entry_num = t.GetEntryNumberWithIndex(fill_num, island_num)\n",
    "    if entry_num != -1L:\n",
    "        c.cd()\n",
    "        global plotted_objects\n",
    "        plotted_objects = plot_fit(entry_num + xtal_num, c)\n",
    "    else:\n",
    "        print('entry not found in index')\n",
    "\n",
    "def plot_grid_with_index(fill_num, island_num):\n",
    "    ROOT.gStyle.SetOptTitle(0)\n",
    "    entry_num = t.GetEntryNumberWithIndex(fill_num, island_num)\n",
    "    if entry_num != -1L:\n",
    "        # have to make sure objects are not garbage collected\n",
    "        objects = []\n",
    "        for xtal_num in xrange(54):\n",
    "            split_c.cd(54 - xtal_num)\n",
    "            objects.append(plot_fit(entry_num, split_c, single=False, grid_index=xtal_num))\n",
    "            entry_num += 1\n",
    "        split_c.Draw()\n",
    "        global plotted_objects\n",
    "        plotted_objects = objects\n",
    "        print('first sample is at {} ns'.format(t.firstSampleNums[0]*1.25))\n",
    "    else:\n",
    "        print('entry not found in index')"
   ]
  },
  {
   "cell_type": "code",
   "execution_count": 3,
   "metadata": {
    "collapsed": false,
    "deletable": true,
    "editable": true,
    "scrolled": false
   },
   "outputs": [
    {
     "data": {
      "image/png": "[encoded data removed]",
      "text/plain": [
       "<IPython.core.display.Image object>"
      ]
     },
     "metadata": {},
     "output_type": "display_data"
    }
   ],
   "source": [
    "%jsroot off\n",
    "dummy = interact(plot_one_with_index, fill_num=IntSlider(min=1, max=8000, step=1, value=100), \n",
    "                 island_num=IntSlider(min=0, max=100, step=1, value=4), \n",
    "                 xtal_num=IntSlider(min=0, max=len(splines) - 1, step=1, value=33))"
   ]
  },
  {
   "cell_type": "code",
   "execution_count": 4,
   "metadata": {
    "collapsed": false,
    "deletable": true,
    "editable": true,
    "scrolled": false
   },
   "outputs": [
    {
     "name": "stdout",
     "output_type": "stream",
     "text": [
      "first sample is at 83505.0 ns\n"
     ]
    },
    {
     "data": {
      "image/png": "[encoded data removed]",
      "text/plain": [
       "<IPython.core.display.Image object>"
      ]
     },
     "metadata": {},
     "output_type": "display_data"
    }
   ],
   "source": [
    "%jsroot off\n",
    "dummy = interact(plot_grid_with_index, fill_num=IntText(min=1, value=100), \n",
    "                 island_num=IntText(min=0, value=10))"
   ]
  },
  {
   "cell_type": "code",
   "execution_count": 5,
   "metadata": {
    "collapsed": false,
    "deletable": true,
    "editable": true
   },
   "outputs": [],
   "source": [
    "for e in t:\n",
    "    samples = sorted(sum((list(range(first, first+length)) for first, length in zip(e.firstSampleNums, e.islandLengths)),\n",
    "                       []))\n",
    "    if (samples[0]*1.25 > 40000 and samples[0] < 80000 and e.xtalNum == 0 and e.fillNum == 110):\n",
    "        print e.fillNum\n",
    "        print e.islandNums[0]\n",
    "        print e.subRunNum"
   ]
  },
  {
   "cell_type": "code",
   "execution_count": 6,
   "metadata": {
    "collapsed": false,
    "deletable": true,
    "editable": true
   },
   "outputs": [
    {
     "name": "stdout",
     "output_type": "stream",
     "text": [
      "[5168.75,5208.75]\n",
      "[31005.0,31036.25]\n",
      "[31041.25,31120.0]\n",
      "[31242.5,31790.0]\n",
      "[31811.25,31888.75]\n",
      "[31951.25,32055.0]\n",
      "[32085.0,32947.5]\n",
      "[33695.0,33726.25]\n",
      "[34011.25,34041.25]\n",
      "[34501.25,34531.25]\n",
      "[37306.25,37357.5]\n",
      "[40728.75,40758.75]\n",
      "[55121.25,55152.5]\n",
      "[82435.0,82470.0]\n",
      "[150172.5,150207.5]\n",
      "[178262.5,178300.0]\n",
      "[687078.75,687110.0]\n"
     ]
    }
   ],
   "source": [
    "# print island ranges for an event\n",
    "event = 100\n",
    "ranges = []\n",
    "for e in t:\n",
    "    if e.fillNum == event and e.xtalNum == 0 and e.subRunNum == 0:\n",
    "        ranges.append(sorted(sum((list(range(first, first+length)) for first, length in zip(e.firstSampleNums, e.islandLengths)),\n",
    "                       [])))\n",
    "    if e.fillNum > event:\n",
    "        break\n",
    "ranges = sorted(ranges, key=lambda x: x[0])\n",
    "for r in ranges:\n",
    "    print '[{0},{1}]'.format(r[0]*1.25-1070, r[-1]*1.25-1070)"
   ]
  },
  {
   "cell_type": "code",
   "execution_count": 7,
   "metadata": {
    "collapsed": false,
    "deletable": true,
    "editable": true
   },
   "outputs": [
    {
     "name": "stdout",
     "output_type": "stream",
     "text": [
      "39\n"
     ]
    }
   ],
   "source": [
    "t.GetEntry(0)\n",
    "print(t.fillNum)"
   ]
  },
  {
   "cell_type": "code",
   "execution_count": null,
   "metadata": {
    "collapsed": true,
    "deletable": true,
    "editable": true
   },
   "outputs": [],
   "source": []
  }
 ],
 "metadata": {
  "kernelspec": {
   "display_name": "Python 2",
   "language": "python",
   "name": "python2"
  },
  "language_info": {
   "codemirror_mode": {
    "name": "ipython",
    "version": 2
   },
   "file_extension": ".py",
   "mimetype": "text/x-python",
   "name": "python",
   "nbconvert_exporter": "python",
   "pygments_lexer": "ipython2",
   "version": "2.7.13"
  },
  "widgets": {
   "state": {
    "17b91e51d76d43b084a6d35449d7d778": {
     "views": [
      {
       "cell_index": 2
      }
     ]
    },
    "f38d76498fc148f1a8b62477511757d5": {
     "views": [
      {
       "cell_index": 3
      }
     ]
    }
   },
   "version": "1.2.0"
  }
 },
 "nbformat": 4,
 "nbformat_minor": 0
}
